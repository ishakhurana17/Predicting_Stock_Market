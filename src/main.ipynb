{
  "nbformat": 4,
  "nbformat_minor": 0,
  "metadata": {
    "colab": {
      "name": "RedditSentimentAnalysis",
      "provenance": [],
      "collapsed_sections": [
        "zoY6rJ5ur76R",
        "cXkcPk5Nxzdt",
        "IFMXBepspMtB",
        "aTcqCrYqpTHM"
      ]
    },
    "kernelspec": {
      "name": "python3",
      "display_name": "Python 3"
    },
    "accelerator": "TPU"
  },
  "cells": [
    {
      "cell_type": "code",
      "metadata": {
        "id": "7OSaCKs8t2IA",
        "colab_type": "code",
        "colab": {}
      },
      "source": [
        "import requests\n",
        "import pandas as pd\n",
        "import json\n",
        "import datetime, time\n",
        "import csv\n",
        "import re\n",
        "import numpy as np\n",
        "import math\n",
        "from sklearn.metrics import classification_report, roc_auc_score, accuracy_score, roc_curve, hamming_loss, cohen_kappa_score\n",
        "import tensorflow as tf\n",
        "import tensorflow_hub as hub\n",
        "import matplotlib.pyplot as plt\n",
        "%matplotlib inline"
      ],
      "execution_count": null,
      "outputs": []
    },
    {
      "cell_type": "code",
      "metadata": {
        "id": "uS34jE7JV2C4",
        "colab_type": "code",
        "colab": {
          "base_uri": "https://localhost:8080/",
          "height": 119
        },
        "outputId": "5f5ed2ed-cfe9-4d6c-b9b8-73548ae3b66c"
      },
      "source": [
        "!pip install bert-tensorflow"
      ],
      "execution_count": null,
      "outputs": [
        {
          "output_type": "stream",
          "text": [
            "Collecting bert-tensorflow\n",
            "\u001b[?25l  Downloading https://files.pythonhosted.org/packages/a6/66/7eb4e8b6ea35b7cc54c322c816f976167a43019750279a8473d355800a93/bert_tensorflow-1.0.1-py2.py3-none-any.whl (67kB)\n",
            "\r\u001b[K     |████▉                           | 10kB 18.8MB/s eta 0:00:01\r\u001b[K     |█████████▊                      | 20kB 2.1MB/s eta 0:00:01\r\u001b[K     |██████████████▋                 | 30kB 3.1MB/s eta 0:00:01\r\u001b[K     |███████████████████▍            | 40kB 2.0MB/s eta 0:00:01\r\u001b[K     |████████████████████████▎       | 51kB 2.5MB/s eta 0:00:01\r\u001b[K     |█████████████████████████████▏  | 61kB 3.0MB/s eta 0:00:01\r\u001b[K     |████████████████████████████████| 71kB 2.2MB/s \n",
            "\u001b[?25hRequirement already satisfied: six in /usr/local/lib/python3.6/dist-packages (from bert-tensorflow) (1.12.0)\n",
            "Installing collected packages: bert-tensorflow\n",
            "Successfully installed bert-tensorflow-1.0.1\n"
          ],
          "name": "stdout"
        }
      ]
    },
    {
      "cell_type": "code",
      "metadata": {
        "id": "edUQZ3c8V-fN",
        "colab_type": "code",
        "colab": {
          "base_uri": "https://localhost:8080/",
          "height": 51
        },
        "outputId": "dc85d2dd-1aa2-4df8-f206-bfc0a5aa9c84"
      },
      "source": [
        "import bert\n",
        "from bert import run_classifier\n",
        "from bert import optimization\n",
        "from bert import tokenization"
      ],
      "execution_count": null,
      "outputs": [
        {
          "output_type": "stream",
          "text": [
            "WARNING:tensorflow:From /usr/local/lib/python3.6/dist-packages/bert/optimization.py:87: The name tf.train.Optimizer is deprecated. Please use tf.compat.v1.train.Optimizer instead.\n",
            "\n"
          ],
          "name": "stdout"
        }
      ]
    },
    {
      "cell_type": "code",
      "metadata": {
        "id": "T3DRzA5vt--Z",
        "colab_type": "code",
        "colab": {
          "base_uri": "https://localhost:8080/",
          "height": 122
        },
        "outputId": "dd318729-3641-4631-853e-d34f55a8bc2b"
      },
      "source": [
        "from google.colab import drive\n",
        "drive.mount('/content/drive/')"
      ],
      "execution_count": null,
      "outputs": [
        {
          "output_type": "stream",
          "text": [
            "Go to this URL in a browser: https://accounts.google.com/o/oauth2/auth?client_id=947318989803-6bn6qk8qdgf4n4g3pfee6491hc0brc4i.apps.googleusercontent.com&redirect_uri=urn%3aietf%3awg%3aoauth%3a2.0%3aoob&response_type=code&scope=email%20https%3a%2f%2fwww.googleapis.com%2fauth%2fdocs.test%20https%3a%2f%2fwww.googleapis.com%2fauth%2fdrive%20https%3a%2f%2fwww.googleapis.com%2fauth%2fdrive.photos.readonly%20https%3a%2f%2fwww.googleapis.com%2fauth%2fpeopleapi.readonly\n",
            "\n",
            "Enter your authorization code:\n",
            "··········\n",
            "Mounted at /content/drive/\n"
          ],
          "name": "stdout"
        }
      ]
    },
    {
      "cell_type": "code",
      "metadata": {
        "id": "4vvmjP72uB41",
        "colab_type": "code",
        "colab": {
          "base_uri": "https://localhost:8080/",
          "height": 34
        },
        "outputId": "8d0f9e3f-ac2e-4221-979a-fa9a2aae4da0"
      },
      "source": [
        "%cd '/content/drive/My Drive/Reddit'"
      ],
      "execution_count": null,
      "outputs": [
        {
          "output_type": "stream",
          "text": [
            "/content/drive/My Drive/Reddit\n"
          ],
          "name": "stdout"
        }
      ]
    },
    {
      "cell_type": "markdown",
      "metadata": {
        "id": "D0ED2RXQsn5D",
        "colab_type": "text"
      },
      "source": [
        "## Sentiment Analysis - DON'T RUN"
      ]
    },
    {
      "cell_type": "markdown",
      "metadata": {
        "id": "W5nI8pCyslVk",
        "colab_type": "text"
      },
      "source": [
        "### Vader"
      ]
    },
    {
      "cell_type": "code",
      "metadata": {
        "id": "rkz-7F0luHyF",
        "colab_type": "code",
        "colab": {
          "base_uri": "https://localhost:8080/",
          "height": 102
        },
        "outputId": "ed00af6c-165e-4b8b-f1a0-d8fcb320caff"
      },
      "source": [
        "!pip install vaderSentiment"
      ],
      "execution_count": null,
      "outputs": [
        {
          "output_type": "stream",
          "text": [
            "Collecting vaderSentiment\n",
            "\u001b[?25l  Downloading https://files.pythonhosted.org/packages/86/9e/c53e1fc61aac5ee490a6ac5e21b1ac04e55a7c2aba647bb8411c9aadf24e/vaderSentiment-3.2.1-py2.py3-none-any.whl (125kB)\n",
            "\u001b[K     |████████████████████████████████| 133kB 3.4MB/s \n",
            "\u001b[?25hInstalling collected packages: vaderSentiment\n",
            "Successfully installed vaderSentiment-3.2.1\n"
          ],
          "name": "stdout"
        }
      ]
    },
    {
      "cell_type": "code",
      "metadata": {
        "id": "p6qawEVPvl1i",
        "colab_type": "code",
        "colab": {}
      },
      "source": [
        "import vaderSentiment"
      ],
      "execution_count": null,
      "outputs": []
    },
    {
      "cell_type": "code",
      "metadata": {
        "id": "wF53B4vFvodl",
        "colab_type": "code",
        "colab": {
          "base_uri": "https://localhost:8080/",
          "height": 204
        },
        "outputId": "aca325ef-1d82-4993-a8c1-654691b1076c"
      },
      "source": [
        "pip install --user -U nltk"
      ],
      "execution_count": null,
      "outputs": [
        {
          "output_type": "stream",
          "text": [
            "Collecting nltk\n",
            "\u001b[?25l  Downloading https://files.pythonhosted.org/packages/f6/1d/d925cfb4f324ede997f6d47bea4d9babba51b49e87a767c170b77005889d/nltk-3.4.5.zip (1.5MB)\n",
            "\r\u001b[K     |▎                               | 10kB 15.5MB/s eta 0:00:01\r\u001b[K     |▌                               | 20kB 2.1MB/s eta 0:00:01\r\u001b[K     |▊                               | 30kB 3.1MB/s eta 0:00:01\r\u001b[K     |█                               | 40kB 2.1MB/s eta 0:00:01\r\u001b[K     |█▏                              | 51kB 2.5MB/s eta 0:00:01\r\u001b[K     |█▍                              | 61kB 3.0MB/s eta 0:00:01\r\u001b[K     |█▋                              | 71kB 3.5MB/s eta 0:00:01\r\u001b[K     |█▉                              | 81kB 4.0MB/s eta 0:00:01\r\u001b[K     |██                              | 92kB 4.4MB/s eta 0:00:01\r\u001b[K     |██▎                             | 102kB 3.4MB/s eta 0:00:01\r\u001b[K     |██▌                             | 112kB 3.4MB/s eta 0:00:01\r\u001b[K     |██▊                             | 122kB 3.4MB/s eta 0:00:01\r\u001b[K     |███                             | 133kB 3.4MB/s eta 0:00:01\r\u001b[K     |███▏                            | 143kB 3.4MB/s eta 0:00:01\r\u001b[K     |███▍                            | 153kB 3.4MB/s eta 0:00:01\r\u001b[K     |███▋                            | 163kB 3.4MB/s eta 0:00:01\r\u001b[K     |███▉                            | 174kB 3.4MB/s eta 0:00:01\r\u001b[K     |████                            | 184kB 3.4MB/s eta 0:00:01\r\u001b[K     |████▎                           | 194kB 3.4MB/s eta 0:00:01\r\u001b[K     |████▌                           | 204kB 3.4MB/s eta 0:00:01\r\u001b[K     |████▊                           | 215kB 3.4MB/s eta 0:00:01\r\u001b[K     |█████                           | 225kB 3.4MB/s eta 0:00:01\r\u001b[K     |█████▏                          | 235kB 3.4MB/s eta 0:00:01\r\u001b[K     |█████▍                          | 245kB 3.4MB/s eta 0:00:01\r\u001b[K     |█████▋                          | 256kB 3.4MB/s eta 0:00:01\r\u001b[K     |█████▉                          | 266kB 3.4MB/s eta 0:00:01\r\u001b[K     |██████                          | 276kB 3.4MB/s eta 0:00:01\r\u001b[K     |██████▎                         | 286kB 3.4MB/s eta 0:00:01\r\u001b[K     |██████▌                         | 296kB 3.4MB/s eta 0:00:01\r\u001b[K     |██████▊                         | 307kB 3.4MB/s eta 0:00:01\r\u001b[K     |███████                         | 317kB 3.4MB/s eta 0:00:01\r\u001b[K     |███████▎                        | 327kB 3.4MB/s eta 0:00:01\r\u001b[K     |███████▌                        | 337kB 3.4MB/s eta 0:00:01\r\u001b[K     |███████▊                        | 348kB 3.4MB/s eta 0:00:01\r\u001b[K     |████████                        | 358kB 3.4MB/s eta 0:00:01\r\u001b[K     |████████▏                       | 368kB 3.4MB/s eta 0:00:01\r\u001b[K     |████████▍                       | 378kB 3.4MB/s eta 0:00:01\r\u001b[K     |████████▋                       | 389kB 3.4MB/s eta 0:00:01\r\u001b[K     |████████▉                       | 399kB 3.4MB/s eta 0:00:01\r\u001b[K     |█████████                       | 409kB 3.4MB/s eta 0:00:01\r\u001b[K     |█████████▎                      | 419kB 3.4MB/s eta 0:00:01\r\u001b[K     |█████████▌                      | 430kB 3.4MB/s eta 0:00:01\r\u001b[K     |█████████▊                      | 440kB 3.4MB/s eta 0:00:01\r\u001b[K     |██████████                      | 450kB 3.4MB/s eta 0:00:01\r\u001b[K     |██████████▏                     | 460kB 3.4MB/s eta 0:00:01\r\u001b[K     |██████████▍                     | 471kB 3.4MB/s eta 0:00:01\r\u001b[K     |██████████▋                     | 481kB 3.4MB/s eta 0:00:01\r\u001b[K     |██████████▉                     | 491kB 3.4MB/s eta 0:00:01\r\u001b[K     |███████████                     | 501kB 3.4MB/s eta 0:00:01\r\u001b[K     |███████████▎                    | 512kB 3.4MB/s eta 0:00:01\r\u001b[K     |███████████▌                    | 522kB 3.4MB/s eta 0:00:01\r\u001b[K     |███████████▊                    | 532kB 3.4MB/s eta 0:00:01\r\u001b[K     |████████████                    | 542kB 3.4MB/s eta 0:00:01\r\u001b[K     |████████████▏                   | 552kB 3.4MB/s eta 0:00:01\r\u001b[K     |████████████▍                   | 563kB 3.4MB/s eta 0:00:01\r\u001b[K     |████████████▋                   | 573kB 3.4MB/s eta 0:00:01\r\u001b[K     |████████████▉                   | 583kB 3.4MB/s eta 0:00:01\r\u001b[K     |█████████████                   | 593kB 3.4MB/s eta 0:00:01\r\u001b[K     |█████████████▎                  | 604kB 3.4MB/s eta 0:00:01\r\u001b[K     |█████████████▌                  | 614kB 3.4MB/s eta 0:00:01\r\u001b[K     |█████████████▉                  | 624kB 3.4MB/s eta 0:00:01\r\u001b[K     |██████████████                  | 634kB 3.4MB/s eta 0:00:01\r\u001b[K     |██████████████▎                 | 645kB 3.4MB/s eta 0:00:01\r\u001b[K     |██████████████▌                 | 655kB 3.4MB/s eta 0:00:01\r\u001b[K     |██████████████▊                 | 665kB 3.4MB/s eta 0:00:01\r\u001b[K     |███████████████                 | 675kB 3.4MB/s eta 0:00:01\r\u001b[K     |███████████████▏                | 686kB 3.4MB/s eta 0:00:01\r\u001b[K     |███████████████▍                | 696kB 3.4MB/s eta 0:00:01\r\u001b[K     |███████████████▋                | 706kB 3.4MB/s eta 0:00:01\r\u001b[K     |███████████████▉                | 716kB 3.4MB/s eta 0:00:01\r\u001b[K     |████████████████                | 727kB 3.4MB/s eta 0:00:01\r\u001b[K     |████████████████▎               | 737kB 3.4MB/s eta 0:00:01\r\u001b[K     |████████████████▌               | 747kB 3.4MB/s eta 0:00:01\r\u001b[K     |████████████████▊               | 757kB 3.4MB/s eta 0:00:01\r\u001b[K     |█████████████████               | 768kB 3.4MB/s eta 0:00:01\r\u001b[K     |█████████████████▏              | 778kB 3.4MB/s eta 0:00:01\r\u001b[K     |█████████████████▍              | 788kB 3.4MB/s eta 0:00:01\r\u001b[K     |█████████████████▋              | 798kB 3.4MB/s eta 0:00:01\r\u001b[K     |█████████████████▉              | 808kB 3.4MB/s eta 0:00:01\r\u001b[K     |██████████████████              | 819kB 3.4MB/s eta 0:00:01\r\u001b[K     |██████████████████▎             | 829kB 3.4MB/s eta 0:00:01\r\u001b[K     |██████████████████▌             | 839kB 3.4MB/s eta 0:00:01\r\u001b[K     |██████████████████▊             | 849kB 3.4MB/s eta 0:00:01\r\u001b[K     |███████████████████             | 860kB 3.4MB/s eta 0:00:01\r\u001b[K     |███████████████████▏            | 870kB 3.4MB/s eta 0:00:01\r\u001b[K     |███████████████████▍            | 880kB 3.4MB/s eta 0:00:01\r\u001b[K     |███████████████████▋            | 890kB 3.4MB/s eta 0:00:01\r\u001b[K     |███████████████████▉            | 901kB 3.4MB/s eta 0:00:01\r\u001b[K     |████████████████████            | 911kB 3.4MB/s eta 0:00:01\r\u001b[K     |████████████████████▎           | 921kB 3.4MB/s eta 0:00:01\r\u001b[K     |████████████████████▋           | 931kB 3.4MB/s eta 0:00:01\r\u001b[K     |████████████████████▉           | 942kB 3.4MB/s eta 0:00:01\r\u001b[K     |█████████████████████           | 952kB 3.4MB/s eta 0:00:01\r\u001b[K     |█████████████████████▎          | 962kB 3.4MB/s eta 0:00:01\r\u001b[K     |█████████████████████▌          | 972kB 3.4MB/s eta 0:00:01\r\u001b[K     |█████████████████████▊          | 983kB 3.4MB/s eta 0:00:01\r\u001b[K     |██████████████████████          | 993kB 3.4MB/s eta 0:00:01\r\u001b[K     |██████████████████████▏         | 1.0MB 3.4MB/s eta 0:00:01\r\u001b[K     |██████████████████████▍         | 1.0MB 3.4MB/s eta 0:00:01\r\u001b[K     |██████████████████████▋         | 1.0MB 3.4MB/s eta 0:00:01\r\u001b[K     |██████████████████████▉         | 1.0MB 3.4MB/s eta 0:00:01\r\u001b[K     |███████████████████████         | 1.0MB 3.4MB/s eta 0:00:01\r\u001b[K     |███████████████████████▎        | 1.1MB 3.4MB/s eta 0:00:01\r\u001b[K     |███████████████████████▌        | 1.1MB 3.4MB/s eta 0:00:01\r\u001b[K     |███████████████████████▊        | 1.1MB 3.4MB/s eta 0:00:01\r\u001b[K     |████████████████████████        | 1.1MB 3.4MB/s eta 0:00:01\r\u001b[K     |████████████████████████▏       | 1.1MB 3.4MB/s eta 0:00:01\r\u001b[K     |████████████████████████▍       | 1.1MB 3.4MB/s eta 0:00:01\r\u001b[K     |████████████████████████▋       | 1.1MB 3.4MB/s eta 0:00:01\r\u001b[K     |████████████████████████▉       | 1.1MB 3.4MB/s eta 0:00:01\r\u001b[K     |█████████████████████████       | 1.1MB 3.4MB/s eta 0:00:01\r\u001b[K     |█████████████████████████▎      | 1.1MB 3.4MB/s eta 0:00:01\r\u001b[K     |█████████████████████████▌      | 1.2MB 3.4MB/s eta 0:00:01\r\u001b[K     |█████████████████████████▊      | 1.2MB 3.4MB/s eta 0:00:01\r\u001b[K     |██████████████████████████      | 1.2MB 3.4MB/s eta 0:00:01\r\u001b[K     |██████████████████████████▏     | 1.2MB 3.4MB/s eta 0:00:01\r\u001b[K     |██████████████████████████▍     | 1.2MB 3.4MB/s eta 0:00:01\r\u001b[K     |██████████████████████████▋     | 1.2MB 3.4MB/s eta 0:00:01\r\u001b[K     |██████████████████████████▉     | 1.2MB 3.4MB/s eta 0:00:01\r\u001b[K     |███████████████████████████     | 1.2MB 3.4MB/s eta 0:00:01\r\u001b[K     |███████████████████████████▍    | 1.2MB 3.4MB/s eta 0:00:01\r\u001b[K     |███████████████████████████▋    | 1.2MB 3.4MB/s eta 0:00:01\r\u001b[K     |███████████████████████████▉    | 1.3MB 3.4MB/s eta 0:00:01\r\u001b[K     |████████████████████████████    | 1.3MB 3.4MB/s eta 0:00:01\r\u001b[K     |████████████████████████████▎   | 1.3MB 3.4MB/s eta 0:00:01\r\u001b[K     |████████████████████████████▌   | 1.3MB 3.4MB/s eta 0:00:01\r\u001b[K     |████████████████████████████▊   | 1.3MB 3.4MB/s eta 0:00:01\r\u001b[K     |█████████████████████████████   | 1.3MB 3.4MB/s eta 0:00:01\r\u001b[K     |█████████████████████████████▏  | 1.3MB 3.4MB/s eta 0:00:01\r\u001b[K     |█████████████████████████████▍  | 1.3MB 3.4MB/s eta 0:00:01\r\u001b[K     |█████████████████████████████▋  | 1.3MB 3.4MB/s eta 0:00:01\r\u001b[K     |█████████████████████████████▉  | 1.4MB 3.4MB/s eta 0:00:01\r\u001b[K     |██████████████████████████████  | 1.4MB 3.4MB/s eta 0:00:01\r\u001b[K     |██████████████████████████████▎ | 1.4MB 3.4MB/s eta 0:00:01\r\u001b[K     |██████████████████████████████▌ | 1.4MB 3.4MB/s eta 0:00:01\r\u001b[K     |██████████████████████████████▊ | 1.4MB 3.4MB/s eta 0:00:01\r\u001b[K     |███████████████████████████████ | 1.4MB 3.4MB/s eta 0:00:01\r\u001b[K     |███████████████████████████████▏| 1.4MB 3.4MB/s eta 0:00:01\r\u001b[K     |███████████████████████████████▍| 1.4MB 3.4MB/s eta 0:00:01\r\u001b[K     |███████████████████████████████▋| 1.4MB 3.4MB/s eta 0:00:01\r\u001b[K     |███████████████████████████████▉| 1.4MB 3.4MB/s eta 0:00:01\r\u001b[K     |████████████████████████████████| 1.5MB 3.4MB/s \n",
            "\u001b[?25hRequirement already satisfied, skipping upgrade: six in /usr/local/lib/python3.6/dist-packages (from nltk) (1.12.0)\n",
            "Building wheels for collected packages: nltk\n",
            "  Building wheel for nltk (setup.py) ... \u001b[?25l\u001b[?25hdone\n",
            "  Created wheel for nltk: filename=nltk-3.4.5-cp36-none-any.whl size=1449907 sha256=483918d3c5ece1bc176144dd588cfeafe5d58e5632af21831eace43bb7d1a5d5\n",
            "  Stored in directory: /root/.cache/pip/wheels/96/86/f6/68ab24c23f207c0077381a5e3904b2815136b879538a24b483\n",
            "Successfully built nltk\n",
            "Installing collected packages: nltk\n",
            "Successfully installed nltk-3.4.5\n"
          ],
          "name": "stdout"
        }
      ]
    },
    {
      "cell_type": "code",
      "metadata": {
        "id": "iGdWhlAYvo-p",
        "colab_type": "code",
        "colab": {}
      },
      "source": [
        "import nltk"
      ],
      "execution_count": null,
      "outputs": []
    },
    {
      "cell_type": "code",
      "metadata": {
        "id": "mK1spZljviHi",
        "colab_type": "code",
        "colab": {
          "base_uri": "https://localhost:8080/",
          "height": 102
        },
        "outputId": "1105eb45-f1eb-4203-facc-6625e11b1ce0"
      },
      "source": [
        "nltk.download('stopwords')\n",
        "nltk.download('punkt')"
      ],
      "execution_count": null,
      "outputs": [
        {
          "output_type": "stream",
          "text": [
            "[nltk_data] Downloading package stopwords to /root/nltk_data...\n",
            "[nltk_data]   Unzipping corpora/stopwords.zip.\n",
            "[nltk_data] Downloading package punkt to /root/nltk_data...\n",
            "[nltk_data]   Unzipping tokenizers/punkt.zip.\n"
          ],
          "name": "stdout"
        },
        {
          "output_type": "execute_result",
          "data": {
            "text/plain": [
              "True"
            ]
          },
          "metadata": {
            "tags": []
          },
          "execution_count": 10
        }
      ]
    },
    {
      "cell_type": "code",
      "metadata": {
        "id": "-glMILYZaQea",
        "colab_type": "code",
        "colab": {}
      },
      "source": [
        "from nltk.corpus import stopwords \n",
        "from nltk.tokenize import TweetTokenizer\n",
        "\n",
        "tknzr = TweetTokenizer(strip_handles=True,reduce_len=True)"
      ],
      "execution_count": null,
      "outputs": []
    },
    {
      "cell_type": "code",
      "metadata": {
        "id": "khdYH0S6rBmU",
        "colab_type": "code",
        "colab": {}
      },
      "source": [
        "def remove_stopwords(word_tokens):\n",
        "  stop_words = set(stopwords.words('english')) \n",
        "    \n",
        "  filtered_sentence = [w for w in word_tokens if not w in stop_words] \n",
        "    \n",
        "  filtered_sentence = [] \n",
        "    \n",
        "  for w in word_tokens: \n",
        "      if w not in stop_words: \n",
        "          filtered_sentence.append(w) \n",
        "  return(filtered_sentence)"
      ],
      "execution_count": null,
      "outputs": []
    },
    {
      "cell_type": "code",
      "metadata": {
        "id": "d3yDA2ftr56L",
        "colab_type": "code",
        "colab": {}
      },
      "source": [
        "from vaderSentiment.vaderSentiment import SentimentIntensityAnalyzer\n",
        "vader_analyzer = SentimentIntensityAnalyzer()"
      ],
      "execution_count": null,
      "outputs": []
    },
    {
      "cell_type": "code",
      "metadata": {
        "id": "k2d5tz78sJ1D",
        "colab_type": "code",
        "colab": {}
      },
      "source": [
        "def get_vader_score(df, col, score_type):\n",
        "  vader_score = df[col].apply(vader_analyzer.polarity_scores)\n",
        "\n",
        "  if score_type == 'compound':\n",
        "     return([d['compound'] for d in vader_score])\n",
        "  elif score_type == 'neg': \n",
        "      return([d['neg'] for d in vader_score])\n",
        "  elif score_type == 'neu': \n",
        "      return([d['neu'] for d in vader_score])\n",
        "  else:\n",
        "      return([d['pos'] for d in vader_score])"
      ],
      "execution_count": null,
      "outputs": []
    },
    {
      "cell_type": "markdown",
      "metadata": {
        "id": "zoY6rJ5ur76R",
        "colab_type": "text"
      },
      "source": [
        "### Utils for Data Cleansing"
      ]
    },
    {
      "cell_type": "code",
      "metadata": {
        "id": "bHYCLklPr-Yl",
        "colab_type": "code",
        "colab": {
          "base_uri": "https://localhost:8080/",
          "height": 306
        },
        "outputId": "c6c04269-d943-4f82-9eaf-c83da91f6fa8"
      },
      "source": [
        "!pip install contractions\n",
        "import contractions"
      ],
      "execution_count": null,
      "outputs": [
        {
          "output_type": "stream",
          "text": [
            "Collecting contractions\n",
            "  Downloading https://files.pythonhosted.org/packages/5a/6a/7bde208d21b4f7db1b666739dca8826d8fd7af34a14fddfda9b597ab8a45/contractions-0.0.23-py2.py3-none-any.whl\n",
            "Collecting textsearch\n",
            "  Downloading https://files.pythonhosted.org/packages/42/a8/03407021f9555043de5492a2bd7a35c56cc03c2510092b5ec018cae1bbf1/textsearch-0.0.17-py2.py3-none-any.whl\n",
            "Collecting Unidecode\n",
            "\u001b[?25l  Downloading https://files.pythonhosted.org/packages/d0/42/d9edfed04228bacea2d824904cae367ee9efd05e6cce7ceaaedd0b0ad964/Unidecode-1.1.1-py2.py3-none-any.whl (238kB)\n",
            "\u001b[K     |████████████████████████████████| 245kB 5.0MB/s \n",
            "\u001b[?25hCollecting pyahocorasick\n",
            "\u001b[?25l  Downloading https://files.pythonhosted.org/packages/f4/9f/f0d8e8850e12829eea2e778f1c90e3c53a9a799b7f412082a5d21cd19ae1/pyahocorasick-1.4.0.tar.gz (312kB)\n",
            "\u001b[K     |████████████████████████████████| 317kB 49.5MB/s \n",
            "\u001b[?25hBuilding wheels for collected packages: pyahocorasick\n",
            "  Building wheel for pyahocorasick (setup.py) ... \u001b[?25l\u001b[?25hdone\n",
            "  Created wheel for pyahocorasick: filename=pyahocorasick-1.4.0-cp36-cp36m-linux_x86_64.whl size=81702 sha256=3734937643b600479e3ae49188b6d221b43e071390f9c71372a15ecbe74590ca\n",
            "  Stored in directory: /root/.cache/pip/wheels/0a/90/61/87a55f5b459792fbb2b7ba6b31721b06ff5cf6bde541b40994\n",
            "Successfully built pyahocorasick\n",
            "Installing collected packages: Unidecode, pyahocorasick, textsearch, contractions\n",
            "Successfully installed Unidecode-1.1.1 contractions-0.0.23 pyahocorasick-1.4.0 textsearch-0.0.17\n"
          ],
          "name": "stdout"
        }
      ]
    },
    {
      "cell_type": "code",
      "metadata": {
        "id": "A-1-SuI-Aac-",
        "colab_type": "code",
        "colab": {}
      },
      "source": [
        "def replace_contractions(text):\n",
        "    \"\"\"Replace contractions in string of text\"\"\"\n",
        "    return contractions.fix(text)\n",
        "\n",
        "def remove_URL(text):\n",
        "    \"\"\"Remove URLs from a sample string\"\"\"\n",
        "    return re.sub(r'http\\S+ | www\\S+', \"\", text)\n",
        "def remove_special_chars(text):\n",
        "    text = re.sub(\"\\s+\",\" \",text)\n",
        "    text = re.sub(\"[^A-Za-z0-9.,;:']+\",' ',text)\n",
        "    return(text)\n",
        "\n",
        "def clean_string(text):\n",
        "  text = remove_URL(text)\n",
        "  text = replace_contractions(text)\n",
        "  text = remove_special_chars(text)\n",
        "  return(text)"
      ],
      "execution_count": null,
      "outputs": []
    },
    {
      "cell_type": "markdown",
      "metadata": {
        "id": "cXkcPk5Nxzdt",
        "colab_type": "text"
      },
      "source": [
        "### TextBlob"
      ]
    },
    {
      "cell_type": "code",
      "metadata": {
        "id": "zl-n1Z8pt2o9",
        "colab_type": "code",
        "colab": {
          "base_uri": "https://localhost:8080/",
          "height": 68
        },
        "outputId": "4b54866b-b056-4526-8e1c-024e827be9af"
      },
      "source": [
        "!pip install -U textblob"
      ],
      "execution_count": null,
      "outputs": [
        {
          "output_type": "stream",
          "text": [
            "Requirement already up-to-date: textblob in /usr/local/lib/python3.6/dist-packages (0.15.3)\n",
            "Requirement already satisfied, skipping upgrade: nltk>=3.1 in /root/.local/lib/python3.6/site-packages (from textblob) (3.4.5)\n",
            "Requirement already satisfied, skipping upgrade: six in /usr/local/lib/python3.6/dist-packages (from nltk>=3.1->textblob) (1.12.0)\n"
          ],
          "name": "stdout"
        }
      ]
    },
    {
      "cell_type": "code",
      "metadata": {
        "id": "m9nMNsEKuuor",
        "colab_type": "code",
        "colab": {
          "base_uri": "https://localhost:8080/",
          "height": 255
        },
        "outputId": "7baa2940-cf1d-4533-c8b6-65933f51a45f"
      },
      "source": [
        "!python -m textblob.download_corpora"
      ],
      "execution_count": null,
      "outputs": [
        {
          "output_type": "stream",
          "text": [
            "[nltk_data] Downloading package brown to /root/nltk_data...\n",
            "[nltk_data]   Unzipping corpora/brown.zip.\n",
            "[nltk_data] Downloading package punkt to /root/nltk_data...\n",
            "[nltk_data]   Package punkt is already up-to-date!\n",
            "[nltk_data] Downloading package wordnet to /root/nltk_data...\n",
            "[nltk_data]   Unzipping corpora/wordnet.zip.\n",
            "[nltk_data] Downloading package averaged_perceptron_tagger to\n",
            "[nltk_data]     /root/nltk_data...\n",
            "[nltk_data]   Unzipping taggers/averaged_perceptron_tagger.zip.\n",
            "[nltk_data] Downloading package conll2000 to /root/nltk_data...\n",
            "[nltk_data]   Unzipping corpora/conll2000.zip.\n",
            "[nltk_data] Downloading package movie_reviews to /root/nltk_data...\n",
            "[nltk_data]   Unzipping corpora/movie_reviews.zip.\n",
            "Finished.\n"
          ],
          "name": "stdout"
        }
      ]
    },
    {
      "cell_type": "code",
      "metadata": {
        "id": "peyI97soyGGi",
        "colab_type": "code",
        "colab": {}
      },
      "source": [
        "def get_textblob_score(df, col):\n",
        "  from textblob import TextBlob\n",
        "  from textblob.sentiments import NaiveBayesAnalyzer\n",
        "  textblob_score = df[col].apply(TextBlob,analyzer=NaiveBayesAnalyzer())\n",
        "  return([d.sentiment.p_pos for d in textblob_score])"
      ],
      "execution_count": null,
      "outputs": []
    },
    {
      "cell_type": "code",
      "metadata": {
        "id": "LIejtDC59kxt",
        "colab_type": "code",
        "colab": {}
      },
      "source": [
        "def clean_df(df,col,phrase='[deleted]'):\n",
        "  df.dropna(inplace=True)\n",
        "  df = df[df[col] != phrase]\n",
        "  df.loc[:,col] = df[col].apply(clean_string)\n",
        "  df.dropna(inplace=True)\n",
        "  df.reset_index(inplace=True)\n",
        "  df.drop(columns='index',inplace=True)\n",
        "  return(df)"
      ],
      "execution_count": null,
      "outputs": []
    },
    {
      "cell_type": "code",
      "metadata": {
        "id": "AKuJL6Ow2Yk8",
        "colab_type": "code",
        "colab": {
          "base_uri": "https://localhost:8080/",
          "height": 588
        },
        "outputId": "046a78f9-727d-4fb9-e487-fcecf1b237ef"
      },
      "source": [
        "pd.options.mode.chained_assignment = None  # default='warn'\n",
        "for i in range(1,102):\n",
        "  df = pd.read_csv('reddit_data'+str(i)+'.csv', dtype={'created_utc':'str','subreddit':'str','body':'str'})\n",
        "  df = clean_df(df,'body','[deleted]')\n",
        "  df['vader_compound_score'] = get_vader_score(df, 'body', 'compound')\n",
        "  df['textblob_pos_score'] = get_textblob_score(df, 'body')\n",
        "  df.to_csv('reddit_sentiment'+str(i)+'.csv')\n",
        "  print('Done for file',i)"
      ],
      "execution_count": null,
      "outputs": [
        {
          "output_type": "stream",
          "text": [
            "Done for file 1\n",
            "Done for file 2\n",
            "Done for file 3\n",
            "Done for file 4\n",
            "Done for file 5\n",
            "Done for file 6\n",
            "Done for file 7\n",
            "Done for file 8\n",
            "Done for file 9\n",
            "Done for file 10\n",
            "Done for file 11\n",
            "Done for file 12\n",
            "Done for file 13\n",
            "Done for file 14\n",
            "Done for file 15\n",
            "Done for file 16\n",
            "Done for file 17\n",
            "Done for file 18\n",
            "Done for file 19\n",
            "Done for file 20\n",
            "Done for file 21\n",
            "Done for file 22\n",
            "Done for file 23\n",
            "Done for file 24\n",
            "Done for file 25\n",
            "Done for file 26\n",
            "Done for file 27\n",
            "Done for file 28\n",
            "Done for file 29\n",
            "Done for file 30\n",
            "Done for file 31\n",
            "Done for file 32\n",
            "Done for file 33\n",
            "Done for file 34\n"
          ],
          "name": "stdout"
        }
      ]
    },
    {
      "cell_type": "markdown",
      "metadata": {
        "id": "B-2EdjhWsrK7",
        "colab_type": "text"
      },
      "source": [
        "## Further processing - DON'T RUN"
      ]
    },
    {
      "cell_type": "code",
      "metadata": {
        "id": "jU-Y7_3WvPou",
        "colab_type": "code",
        "colab": {
          "base_uri": "https://localhost:8080/",
          "height": 1000
        },
        "outputId": "bcd72641-0141-495f-ca18-10bba2b703a0"
      },
      "source": [
        "reddit_daily_sentiment = pd.read_csv('reddit_sentiment1.csv',dtype={'Unnamed: 0':'int','created_utc':'int','subreddit':'str','body':'str','vader_compound_score':'float','textblob_pos_score':'float'})\n",
        "reddit_daily_sentiment.drop(columns='Unnamed: 0',inplace=True)\n",
        "reddit_daily_sentiment['date'] = reddit_daily_sentiment['created_utc'].apply(lambda ts: datetime.datetime.utcfromtimestamp(ts))\n",
        "reddit_daily_sentiment.set_index('date',inplace=True)\n",
        "reddit_daily_sentiment = reddit_daily_sentiment.groupby(pd.Grouper(freq='D')).mean()\n",
        "for i in range(2,102):\n",
        "  df = pd.read_csv('reddit_sentiment'+str(i)+'.csv',dtype={'Unnamed: 0':'int','created_utc':'int','subreddit':'str','body':'str','vader_compound_score':'float','textblob_pos_score':'float'})\n",
        "  df.drop(columns='Unnamed: 0',inplace=True)\n",
        "  df['date'] = df['created_utc'].apply(lambda ts: datetime.datetime.utcfromtimestamp(ts))\n",
        "  df.set_index('date',inplace=True)\n",
        "  df_res = df.groupby(pd.Grouper(freq='D')).mean()\n",
        "  #df_res.to_csv('reddit_daily_sentiment'+str(i)+'.csv')\n",
        "  reddit_daily_sentiment = pd.concat([reddit_daily_sentiment,df_res])\n",
        "  print('Done for file',i)"
      ],
      "execution_count": null,
      "outputs": [
        {
          "output_type": "stream",
          "text": [
            "Done for file 2\n",
            "Done for file 3\n",
            "Done for file 4\n",
            "Done for file 5\n",
            "Done for file 6\n",
            "Done for file 7\n",
            "Done for file 8\n",
            "Done for file 9\n",
            "Done for file 10\n",
            "Done for file 11\n",
            "Done for file 12\n",
            "Done for file 13\n",
            "Done for file 14\n",
            "Done for file 15\n",
            "Done for file 16\n",
            "Done for file 17\n",
            "Done for file 18\n",
            "Done for file 19\n",
            "Done for file 20\n",
            "Done for file 21\n",
            "Done for file 22\n",
            "Done for file 23\n",
            "Done for file 24\n",
            "Done for file 25\n",
            "Done for file 26\n",
            "Done for file 27\n",
            "Done for file 28\n",
            "Done for file 29\n",
            "Done for file 30\n",
            "Done for file 31\n",
            "Done for file 32\n",
            "Done for file 33\n",
            "Done for file 34\n",
            "Done for file 35\n",
            "Done for file 36\n",
            "Done for file 37\n",
            "Done for file 38\n",
            "Done for file 39\n",
            "Done for file 40\n",
            "Done for file 41\n",
            "Done for file 42\n",
            "Done for file 43\n",
            "Done for file 44\n",
            "Done for file 45\n",
            "Done for file 46\n",
            "Done for file 47\n",
            "Done for file 48\n",
            "Done for file 49\n",
            "Done for file 50\n",
            "Done for file 51\n",
            "Done for file 52\n",
            "Done for file 53\n",
            "Done for file 54\n",
            "Done for file 55\n",
            "Done for file 56\n",
            "Done for file 57\n",
            "Done for file 58\n",
            "Done for file 59\n",
            "Done for file 60\n",
            "Done for file 61\n",
            "Done for file 62\n",
            "Done for file 63\n",
            "Done for file 64\n",
            "Done for file 65\n",
            "Done for file 66\n",
            "Done for file 67\n",
            "Done for file 68\n",
            "Done for file 69\n",
            "Done for file 70\n",
            "Done for file 71\n",
            "Done for file 72\n",
            "Done for file 73\n",
            "Done for file 74\n",
            "Done for file 75\n",
            "Done for file 76\n",
            "Done for file 77\n",
            "Done for file 78\n",
            "Done for file 79\n",
            "Done for file 80\n",
            "Done for file 81\n",
            "Done for file 82\n",
            "Done for file 83\n",
            "Done for file 84\n",
            "Done for file 85\n",
            "Done for file 86\n",
            "Done for file 87\n",
            "Done for file 88\n",
            "Done for file 89\n",
            "Done for file 90\n",
            "Done for file 91\n",
            "Done for file 92\n",
            "Done for file 93\n",
            "Done for file 94\n",
            "Done for file 95\n",
            "Done for file 96\n",
            "Done for file 97\n",
            "Done for file 98\n",
            "Done for file 99\n",
            "Done for file 100\n",
            "Done for file 101\n"
          ],
          "name": "stdout"
        }
      ]
    },
    {
      "cell_type": "code",
      "metadata": {
        "id": "pNVJW93UpJGB",
        "colab_type": "code",
        "colab": {}
      },
      "source": [
        "reddit_daily_sentiment.dropna(inplace=True)"
      ],
      "execution_count": null,
      "outputs": []
    },
    {
      "cell_type": "code",
      "metadata": {
        "id": "xnVs0uhaPTO_",
        "colab_type": "code",
        "colab": {}
      },
      "source": [
        "reddit_daily_sentiment.to_csv('reddit_daily_sentiment.csv')"
      ],
      "execution_count": null,
      "outputs": []
    },
    {
      "cell_type": "markdown",
      "metadata": {
        "id": "5FHt1uQY08Tw",
        "colab_type": "text"
      },
      "source": [
        "Merging all files"
      ]
    },
    {
      "cell_type": "code",
      "metadata": {
        "id": "C_oh74IqyVJK",
        "colab_type": "code",
        "colab": {}
      },
      "source": [
        "def merge_files(freq):\n",
        "  fout=open(\"reddit_\"+freq+\"_sentiment.csv\",\"a\")\n",
        "  # first file:\n",
        "  for line in open(\"reddit_\"+freq+\"_sentiment1.csv\"):\n",
        "      fout.write(line)\n",
        "  # now the rest:    \n",
        "  for num in range(2,102):\n",
        "      f = open(\"reddit_\"+freq+\"_sentiment\"+str(num)+\".csv\")\n",
        "      f.__next__() # skip the header, new in python 3\n",
        "      for line in f:\n",
        "          fout.write(line)\n",
        "      f.close() # not really needed\n",
        "  fout.close()"
      ],
      "execution_count": null,
      "outputs": []
    },
    {
      "cell_type": "markdown",
      "metadata": {
        "id": "6rrmX9SK42Mu",
        "colab_type": "text"
      },
      "source": [
        "## Final Analysis"
      ]
    },
    {
      "cell_type": "markdown",
      "metadata": {
        "id": "IFMXBepspMtB",
        "colab_type": "text"
      },
      "source": [
        "### Monthly predictions"
      ]
    },
    {
      "cell_type": "code",
      "metadata": {
        "id": "LYhEOxRz7nmC",
        "colab_type": "code",
        "colab": {}
      },
      "source": [
        ""
      ],
      "execution_count": null,
      "outputs": []
    },
    {
      "cell_type": "code",
      "metadata": {
        "id": "le6VUkXc1QDx",
        "colab_type": "code",
        "colab": {}
      },
      "source": [
        "df_sentiment = pd.read_csv('reddit_monthly_sentiment.csv')\n",
        "df_stock_indices = pd.read_csv('stock_indices_2009-2019.csv',index_col='date',parse_dates=True)"
      ],
      "execution_count": null,
      "outputs": []
    },
    {
      "cell_type": "code",
      "metadata": {
        "id": "7qVqVwMF1bIj",
        "colab_type": "code",
        "colab": {}
      },
      "source": [
        "df_sentiment = df_sentiment.groupby('date').mean()"
      ],
      "execution_count": null,
      "outputs": []
    },
    {
      "cell_type": "code",
      "metadata": {
        "id": "1Kve4oqA1bl2",
        "colab_type": "code",
        "colab": {}
      },
      "source": [
        "df_stock_indices_monthly = df_stock_indices.groupby(pd.Grouper(freq='M')).mean()"
      ],
      "execution_count": null,
      "outputs": []
    },
    {
      "cell_type": "code",
      "metadata": {
        "id": "Fq93RY9s1mVl",
        "colab_type": "code",
        "colab": {}
      },
      "source": [
        "df_stock_indices_monthy_returns = (df_stock_indices_monthly.shift(1) - df_stock_indices_monthly)/ df_stock_indices_monthly"
      ],
      "execution_count": null,
      "outputs": []
    },
    {
      "cell_type": "code",
      "metadata": {
        "id": "jFmPq35e23m-",
        "colab_type": "code",
        "colab": {}
      },
      "source": [
        "df_stock_indices_monthy_returns.dropna(inplace=True)"
      ],
      "execution_count": null,
      "outputs": []
    },
    {
      "cell_type": "code",
      "metadata": {
        "id": "vhPFqou810xq",
        "colab_type": "code",
        "colab": {}
      },
      "source": [
        "df_monthly_sentiment = df_sentiment.shift(-1)"
      ],
      "execution_count": null,
      "outputs": []
    },
    {
      "cell_type": "code",
      "metadata": {
        "id": "V0dkf2qI3G18",
        "colab_type": "code",
        "colab": {}
      },
      "source": [
        "df_monthly_sentiment.dropna(inplace=True)"
      ],
      "execution_count": null,
      "outputs": []
    },
    {
      "cell_type": "code",
      "metadata": {
        "id": "wH9ilOWk2NBy",
        "colab_type": "code",
        "colab": {}
      },
      "source": [
        "df_monthly_sentiment['predicted_up'] = df_monthly_sentiment.vader_compound_score > 0.05"
      ],
      "execution_count": null,
      "outputs": []
    },
    {
      "cell_type": "code",
      "metadata": {
        "id": "mP6gXUYM3EEf",
        "colab_type": "code",
        "colab": {
          "base_uri": "https://localhost:8080/",
          "height": 450
        },
        "outputId": "10b67747-be22-4c10-8bd8-2c65514dbf6e"
      },
      "source": [
        "df_monthly_sentiment"
      ],
      "execution_count": null,
      "outputs": [
        {
          "output_type": "execute_result",
          "data": {
            "text/html": [
              "<div>\n",
              "<style scoped>\n",
              "    .dataframe tbody tr th:only-of-type {\n",
              "        vertical-align: middle;\n",
              "    }\n",
              "\n",
              "    .dataframe tbody tr th {\n",
              "        vertical-align: top;\n",
              "    }\n",
              "\n",
              "    .dataframe thead th {\n",
              "        text-align: right;\n",
              "    }\n",
              "</style>\n",
              "<table border=\"1\" class=\"dataframe\">\n",
              "  <thead>\n",
              "    <tr style=\"text-align: right;\">\n",
              "      <th></th>\n",
              "      <th>created_utc</th>\n",
              "      <th>vader_compound_score</th>\n",
              "      <th>textblob_pos_score</th>\n",
              "      <th>predicted_up</th>\n",
              "    </tr>\n",
              "    <tr>\n",
              "      <th>date</th>\n",
              "      <th></th>\n",
              "      <th></th>\n",
              "      <th></th>\n",
              "      <th></th>\n",
              "    </tr>\n",
              "  </thead>\n",
              "  <tbody>\n",
              "    <tr>\n",
              "      <th>2009-01-31</th>\n",
              "      <td>1.234614e+09</td>\n",
              "      <td>0.150483</td>\n",
              "      <td>0.730683</td>\n",
              "      <td>True</td>\n",
              "    </tr>\n",
              "    <tr>\n",
              "      <th>2009-02-28</th>\n",
              "      <td>1.237146e+09</td>\n",
              "      <td>0.167607</td>\n",
              "      <td>0.647738</td>\n",
              "      <td>True</td>\n",
              "    </tr>\n",
              "    <tr>\n",
              "      <th>2009-03-31</th>\n",
              "      <td>1.239931e+09</td>\n",
              "      <td>0.046171</td>\n",
              "      <td>0.636454</td>\n",
              "      <td>False</td>\n",
              "    </tr>\n",
              "    <tr>\n",
              "      <th>2009-04-30</th>\n",
              "      <td>1.242986e+09</td>\n",
              "      <td>0.027224</td>\n",
              "      <td>0.649321</td>\n",
              "      <td>False</td>\n",
              "    </tr>\n",
              "    <tr>\n",
              "      <th>2009-05-31</th>\n",
              "      <td>1.245485e+09</td>\n",
              "      <td>0.064500</td>\n",
              "      <td>0.726431</td>\n",
              "      <td>True</td>\n",
              "    </tr>\n",
              "    <tr>\n",
              "      <th>...</th>\n",
              "      <td>...</td>\n",
              "      <td>...</td>\n",
              "      <td>...</td>\n",
              "      <td>...</td>\n",
              "    </tr>\n",
              "    <tr>\n",
              "      <th>2019-06-30</th>\n",
              "      <td>1.563292e+09</td>\n",
              "      <td>0.076853</td>\n",
              "      <td>0.540346</td>\n",
              "      <td>True</td>\n",
              "    </tr>\n",
              "    <tr>\n",
              "      <th>2019-07-31</th>\n",
              "      <td>1.565868e+09</td>\n",
              "      <td>0.053090</td>\n",
              "      <td>0.534864</td>\n",
              "      <td>True</td>\n",
              "    </tr>\n",
              "    <tr>\n",
              "      <th>2019-08-31</th>\n",
              "      <td>1.568626e+09</td>\n",
              "      <td>0.054687</td>\n",
              "      <td>0.538876</td>\n",
              "      <td>True</td>\n",
              "    </tr>\n",
              "    <tr>\n",
              "      <th>2019-09-30</th>\n",
              "      <td>1.571331e+09</td>\n",
              "      <td>0.053146</td>\n",
              "      <td>0.534139</td>\n",
              "      <td>True</td>\n",
              "    </tr>\n",
              "    <tr>\n",
              "      <th>2019-10-31</th>\n",
              "      <td>1.572906e+09</td>\n",
              "      <td>0.057221</td>\n",
              "      <td>0.524920</td>\n",
              "      <td>True</td>\n",
              "    </tr>\n",
              "  </tbody>\n",
              "</table>\n",
              "<p>130 rows × 4 columns</p>\n",
              "</div>"
            ],
            "text/plain": [
              "             created_utc  ...  predicted_up\n",
              "date                      ...              \n",
              "2009-01-31  1.234614e+09  ...          True\n",
              "2009-02-28  1.237146e+09  ...          True\n",
              "2009-03-31  1.239931e+09  ...         False\n",
              "2009-04-30  1.242986e+09  ...         False\n",
              "2009-05-31  1.245485e+09  ...          True\n",
              "...                  ...  ...           ...\n",
              "2019-06-30  1.563292e+09  ...          True\n",
              "2019-07-31  1.565868e+09  ...          True\n",
              "2019-08-31  1.568626e+09  ...          True\n",
              "2019-09-30  1.571331e+09  ...          True\n",
              "2019-10-31  1.572906e+09  ...          True\n",
              "\n",
              "[130 rows x 4 columns]"
            ]
          },
          "metadata": {
            "tags": []
          },
          "execution_count": 29
        }
      ]
    },
    {
      "cell_type": "code",
      "metadata": {
        "id": "6trXlqx85XA3",
        "colab_type": "code",
        "colab": {}
      },
      "source": [
        "df_stock_indices_monthly_returns = (df_stock_indices_monthly.shift(1) - df_stock_indices_monthly) / df_stock_indices_monthly"
      ],
      "execution_count": null,
      "outputs": []
    },
    {
      "cell_type": "code",
      "metadata": {
        "id": "xoGHqB5dtxni",
        "colab_type": "code",
        "colab": {}
      },
      "source": [
        "df_stock_indices_monthly_returns.dropna(inplace=True)"
      ],
      "execution_count": null,
      "outputs": []
    },
    {
      "cell_type": "code",
      "metadata": {
        "id": "3KuAv8ZD3TIQ",
        "colab_type": "code",
        "colab": {}
      },
      "source": [
        "df_stock_indices_monthly_returns['SPX_up'] = df_stock_indices_monthly_returns['SPX'] > 0"
      ],
      "execution_count": null,
      "outputs": []
    },
    {
      "cell_type": "code",
      "metadata": {
        "id": "NBaWEeVI3sWC",
        "colab_type": "code",
        "colab": {}
      },
      "source": [
        "df_stock_indices_monthly_returns['DJIA_up'] = df_stock_indices_monthly_returns['DJIA'] > 0"
      ],
      "execution_count": null,
      "outputs": []
    },
    {
      "cell_type": "code",
      "metadata": {
        "id": "S2S5OgTm31op",
        "colab_type": "code",
        "colab": {}
      },
      "source": [
        "df_stock_indices_monthly_returns['Nasdaq_up'] = df_stock_indices_monthly_returns['Nasdaq'] > 0"
      ],
      "execution_count": null,
      "outputs": []
    },
    {
      "cell_type": "markdown",
      "metadata": {
        "id": "5Z-WdyO15vL2",
        "colab_type": "text"
      },
      "source": [
        "Making Predictions"
      ]
    },
    {
      "cell_type": "code",
      "metadata": {
        "id": "6aowuREuv4gP",
        "colab_type": "code",
        "colab": {}
      },
      "source": [
        "n_predictions = df_stock_indices_monthly_returns.shape[0]"
      ],
      "execution_count": null,
      "outputs": []
    },
    {
      "cell_type": "code",
      "metadata": {
        "id": "FteuKLIO5t7D",
        "colab_type": "code",
        "colab": {
          "base_uri": "https://localhost:8080/",
          "height": 34
        },
        "outputId": "9bea3c15-5a32-48cc-9467-577cf23e5d9b"
      },
      "source": [
        "(n_predictions - (df_monthly_sentiment['predicted_up'].values == df_stock_indices_monthly_returns['DJIA_up'].values).sum())\n",
        " / n_predictions"
      ],
      "execution_count": null,
      "outputs": [
        {
          "output_type": "execute_result",
          "data": {
            "text/plain": [
              "0.6692307692307692"
            ]
          },
          "metadata": {
            "tags": []
          },
          "execution_count": 37
        }
      ]
    },
    {
      "cell_type": "code",
      "metadata": {
        "id": "gyC1HUbEOKrN",
        "colab_type": "code",
        "colab": {
          "base_uri": "https://localhost:8080/",
          "height": 170
        },
        "outputId": "c9dc06b5-db8b-43a3-ea74-e3422704a06c"
      },
      "source": [
        "print(classification_report(df_stock_indices_monthly_returns['DJIA_up'].values,df_monthly_sentiment['predicted_up'].values))"
      ],
      "execution_count": null,
      "outputs": [
        {
          "output_type": "stream",
          "text": [
            "              precision    recall  f1-score   support\n",
            "\n",
            "       False       1.00      0.02      0.04        89\n",
            "        True       0.32      1.00      0.49        41\n",
            "\n",
            "    accuracy                           0.33       130\n",
            "   macro avg       0.66      0.51      0.26       130\n",
            "weighted avg       0.79      0.33      0.18       130\n",
            "\n"
          ],
          "name": "stdout"
        }
      ]
    },
    {
      "cell_type": "code",
      "metadata": {
        "id": "ATLxC5V74I-J",
        "colab_type": "code",
        "colab": {
          "base_uri": "https://localhost:8080/",
          "height": 34
        },
        "outputId": "dbe52b88-3d8c-4de4-b7b2-bdd82e86bd4a"
      },
      "source": [
        "(n_predictions - (df_monthly_sentiment['predicted_up'].values == df_stock_indices_monthly_returns['SPX_up'].values).sum())\n",
        " / n_predictions"
      ],
      "execution_count": null,
      "outputs": [
        {
          "output_type": "execute_result",
          "data": {
            "text/plain": [
              "0.6692307692307692"
            ]
          },
          "metadata": {
            "tags": []
          },
          "execution_count": 40
        }
      ]
    },
    {
      "cell_type": "code",
      "metadata": {
        "id": "Z02HPIJFOVHD",
        "colab_type": "code",
        "colab": {
          "base_uri": "https://localhost:8080/",
          "height": 170
        },
        "outputId": "8d07403e-a929-4e13-9fd5-645306c759ca"
      },
      "source": [
        "print(classification_report(df_stock_indices_monthly_returns['SPX_up'].values,df_monthly_sentiment['predicted_up'].values))"
      ],
      "execution_count": null,
      "outputs": [
        {
          "output_type": "stream",
          "text": [
            "              precision    recall  f1-score   support\n",
            "\n",
            "       False       1.00      0.02      0.04        89\n",
            "        True       0.32      1.00      0.49        41\n",
            "\n",
            "    accuracy                           0.33       130\n",
            "   macro avg       0.66      0.51      0.26       130\n",
            "weighted avg       0.79      0.33      0.18       130\n",
            "\n"
          ],
          "name": "stdout"
        }
      ]
    },
    {
      "cell_type": "code",
      "metadata": {
        "id": "i_euzWYc4eQl",
        "colab_type": "code",
        "colab": {
          "base_uri": "https://localhost:8080/",
          "height": 34
        },
        "outputId": "56796292-59a8-4d7a-c2e4-1d8bfe334550"
      },
      "source": [
        "(n_predictions - (df_monthly_sentiment['predicted_up'].values == df_stock_indices_monthly_returns['Nasdaq_up'].values).sum()) / n_predictions"
      ],
      "execution_count": null,
      "outputs": [
        {
          "output_type": "execute_result",
          "data": {
            "text/plain": [
              "0.7230769230769231"
            ]
          },
          "metadata": {
            "tags": []
          },
          "execution_count": 42
        }
      ]
    },
    {
      "cell_type": "code",
      "metadata": {
        "id": "X0CwaoXOOY-m",
        "colab_type": "code",
        "colab": {
          "base_uri": "https://localhost:8080/",
          "height": 170
        },
        "outputId": "cce26507-6aee-4019-f913-1e469ba9cf8c"
      },
      "source": [
        "print(classification_report(df_stock_indices_monthly_returns['Nasdaq_up'].values,df_monthly_sentiment['predicted_up'].values))"
      ],
      "execution_count": null,
      "outputs": [
        {
          "output_type": "stream",
          "text": [
            "              precision    recall  f1-score   support\n",
            "\n",
            "       False       1.00      0.02      0.04        96\n",
            "        True       0.27      1.00      0.42        34\n",
            "\n",
            "    accuracy                           0.28       130\n",
            "   macro avg       0.63      0.51      0.23       130\n",
            "weighted avg       0.81      0.28      0.14       130\n",
            "\n"
          ],
          "name": "stdout"
        }
      ]
    },
    {
      "cell_type": "markdown",
      "metadata": {
        "id": "aTcqCrYqpTHM",
        "colab_type": "text"
      },
      "source": [
        "### Daily predictions"
      ]
    },
    {
      "cell_type": "code",
      "metadata": {
        "id": "cgicKpOHpU0m",
        "colab_type": "code",
        "colab": {}
      },
      "source": [
        "df_stock_indices = pd.read_csv('stock_indices_2009-2019.csv',index_col='date',parse_dates=True)\n",
        "df_stock_indices_daily = df_stock_indices.groupby(pd.Grouper(freq='D')).mean()\n",
        "df_stock_indices_daily.dropna(inplace=True)"
      ],
      "execution_count": null,
      "outputs": []
    },
    {
      "cell_type": "code",
      "metadata": {
        "id": "81hNSRerpgFI",
        "colab_type": "code",
        "colab": {}
      },
      "source": [
        "df_stock_indices_daily_returns = (df_stock_indices_daily.shift(1) - df_stock_indices_daily)/df_stock_indices_daily"
      ],
      "execution_count": null,
      "outputs": []
    },
    {
      "cell_type": "code",
      "metadata": {
        "id": "x9OGtluws3ie",
        "colab_type": "code",
        "colab": {}
      },
      "source": [
        "df_stock_indices_daily_returns.dropna(inplace=True)"
      ],
      "execution_count": null,
      "outputs": []
    },
    {
      "cell_type": "code",
      "metadata": {
        "id": "xX-Ph1Flpthb",
        "colab_type": "code",
        "colab": {}
      },
      "source": [
        "def _get_prior_sentiment(date,df_sentiment,score_col, n_days):\n",
        "  \"\"\"\n",
        "    date form: 'YYYY-MM-DD' AND the 'date' column must be the index\n",
        "    score_col: the column with the score to get\n",
        "    n_days: number days to look back\n",
        "  \"\"\"\n",
        "  return(df_sentiment[df_sentiment.index < date][score_col][-n_days:].mean())"
      ],
      "execution_count": null,
      "outputs": []
    },
    {
      "cell_type": "code",
      "metadata": {
        "id": "R3DpXigWQABN",
        "colab_type": "code",
        "colab": {}
      },
      "source": [
        "reddit_daily_sentiment = pd.read_csv('reddit_daily_sentiment.csv',index_col='date',parse_dates=True)"
      ],
      "execution_count": null,
      "outputs": []
    },
    {
      "cell_type": "code",
      "metadata": {
        "id": "rtfLtlccyFZp",
        "colab_type": "code",
        "colab": {}
      },
      "source": [
        "daily_predictions = [_get_prior_sentiment(date,reddit_daily_sentiment,'vader_compound_score',14) for date in df_stock_indices_daily_returns.index]"
      ],
      "execution_count": null,
      "outputs": []
    },
    {
      "cell_type": "code",
      "metadata": {
        "id": "HdPjjRxCzz72",
        "colab_type": "code",
        "colab": {}
      },
      "source": [
        "daily_predictions = np.array(daily_predictions) > 0.05"
      ],
      "execution_count": null,
      "outputs": []
    },
    {
      "cell_type": "code",
      "metadata": {
        "id": "i7aLRwOc02hx",
        "colab_type": "code",
        "colab": {}
      },
      "source": [
        "df_stock_indices_daily_returns['SPX_up'] = df_stock_indices_daily_returns['SPX'] > 0\n",
        "df_stock_indices_daily_returns['DJIA_up'] = df_stock_indices_daily_returns['DJIA'] > 0\n",
        "df_stock_indices_daily_returns['Nasdaq_up'] = df_stock_indices_daily_returns['Nasdaq'] > 0"
      ],
      "execution_count": null,
      "outputs": []
    },
    {
      "cell_type": "code",
      "metadata": {
        "id": "AN-RTZ5c031-",
        "colab_type": "code",
        "colab": {}
      },
      "source": [
        "n_predictions = len(daily_predictions)"
      ],
      "execution_count": null,
      "outputs": []
    },
    {
      "cell_type": "code",
      "metadata": {
        "id": "Z9gXf0UR1QQs",
        "colab_type": "code",
        "colab": {
          "base_uri": "https://localhost:8080/",
          "height": 34
        },
        "outputId": "a322ad40-2a4f-4fbb-f03c-fb5364830c74"
      },
      "source": [
        "(n_predictions - (daily_predictions == df_stock_indices_daily_returns['SPX_up'].values).sum()) / n_predictions"
      ],
      "execution_count": null,
      "outputs": [
        {
          "output_type": "execute_result",
          "data": {
            "text/plain": [
              "0.549908592321755"
            ]
          },
          "metadata": {
            "tags": []
          },
          "execution_count": 65
        }
      ]
    },
    {
      "cell_type": "code",
      "metadata": {
        "id": "nYnURO82QN3P",
        "colab_type": "code",
        "colab": {
          "base_uri": "https://localhost:8080/",
          "height": 170
        },
        "outputId": "e197dc7e-b305-4d2f-be92-874d9cb31c16"
      },
      "source": [
        "print(classification_report(df_stock_indices_daily_returns['SPX_up'].values,daily_predictions))"
      ],
      "execution_count": null,
      "outputs": [
        {
          "output_type": "stream",
          "text": [
            "              precision    recall  f1-score   support\n",
            "\n",
            "       False       0.40      0.01      0.01      1499\n",
            "        True       0.45      0.99      0.62      1236\n",
            "\n",
            "    accuracy                           0.45      2735\n",
            "   macro avg       0.43      0.50      0.32      2735\n",
            "weighted avg       0.42      0.45      0.29      2735\n",
            "\n"
          ],
          "name": "stdout"
        }
      ]
    },
    {
      "cell_type": "code",
      "metadata": {
        "id": "csW8JC0S1YB2",
        "colab_type": "code",
        "colab": {
          "base_uri": "https://localhost:8080/",
          "height": 34
        },
        "outputId": "a19bb37e-08a4-4559-d6a8-571880be364f"
      },
      "source": [
        "(n_predictions - (daily_predictions == df_stock_indices_daily_returns['DJIA_up'].values).sum()) / n_predictions"
      ],
      "execution_count": null,
      "outputs": [
        {
          "output_type": "execute_result",
          "data": {
            "text/plain": [
              "0.5451553930530164"
            ]
          },
          "metadata": {
            "tags": []
          },
          "execution_count": 67
        }
      ]
    },
    {
      "cell_type": "code",
      "metadata": {
        "id": "FLWLYvPEQXTe",
        "colab_type": "code",
        "colab": {
          "base_uri": "https://localhost:8080/",
          "height": 170
        },
        "outputId": "0b1eec7a-9592-4667-e128-1139ee5f4ac9"
      },
      "source": [
        "print(classification_report(df_stock_indices_daily_returns['DJIA_up'].values,daily_predictions))"
      ],
      "execution_count": null,
      "outputs": [
        {
          "output_type": "stream",
          "text": [
            "              precision    recall  f1-score   support\n",
            "\n",
            "       False       0.44      0.01      0.01      1488\n",
            "        True       0.45      0.99      0.62      1247\n",
            "\n",
            "    accuracy                           0.45      2735\n",
            "   macro avg       0.45      0.50      0.32      2735\n",
            "weighted avg       0.45      0.45      0.29      2735\n",
            "\n"
          ],
          "name": "stdout"
        }
      ]
    },
    {
      "cell_type": "code",
      "metadata": {
        "id": "CaandGq31Z84",
        "colab_type": "code",
        "colab": {
          "base_uri": "https://localhost:8080/",
          "height": 34
        },
        "outputId": "ae080832-f18e-4d7b-ffe4-25df9a682186"
      },
      "source": [
        "(n_predictions - (daily_predictions == df_stock_indices_daily_returns['Nasdaq_up'].values).sum()) / n_predictions"
      ],
      "execution_count": null,
      "outputs": [
        {
          "output_type": "execute_result",
          "data": {
            "text/plain": [
              "0.5608775137111517"
            ]
          },
          "metadata": {
            "tags": []
          },
          "execution_count": 69
        }
      ]
    },
    {
      "cell_type": "code",
      "metadata": {
        "id": "D2Xx0S8gQav-",
        "colab_type": "code",
        "colab": {
          "base_uri": "https://localhost:8080/",
          "height": 170
        },
        "outputId": "45f355e6-539c-48ae-971e-27dadc00509a"
      },
      "source": [
        "print(classification_report(df_stock_indices_daily_returns['Nasdaq_up'].values,daily_predictions))"
      ],
      "execution_count": null,
      "outputs": [
        {
          "output_type": "stream",
          "text": [
            "              precision    recall  f1-score   support\n",
            "\n",
            "       False       0.40      0.01      0.01      1529\n",
            "        True       0.44      0.99      0.61      1206\n",
            "\n",
            "    accuracy                           0.44      2735\n",
            "   macro avg       0.42      0.50      0.31      2735\n",
            "weighted avg       0.42      0.44      0.28      2735\n",
            "\n"
          ],
          "name": "stdout"
        }
      ]
    }
  ]
}